{
 "cells": [
  {
   "cell_type": "markdown",
   "id": "73e8ba4e-350f-4292-84b5-68ea33a7c52b",
   "metadata": {},
   "source": [
    "## Trabalho Prático #2: Planejamento e navegação ##\n",
    "#### Integrantes: ####\n",
    "* Filipe Rodrigues Batista de Oliveira \n",
    "* Lucas Avelar "
   ]
  },
  {
   "cell_type": "code",
   "execution_count": 36,
   "id": "3d425c81-e6a9-47d9-bdee-9684a9c3972d",
   "metadata": {},
   "outputs": [],
   "source": [
    "import time\n",
    "import numpy as np\n",
    "from matplotlib import pyplot as plt\n",
    "\n",
    "import sim"
   ]
  },
  {
   "cell_type": "markdown",
   "id": "6f52c2ac-f27a-4a09-b048-ceeb46ce9278",
   "metadata": {},
   "source": [
    "### Parte I - "
   ]
  },
  {
   "cell_type": "code",
   "execution_count": null,
   "id": "b239c528-aa32-4805-8595-66add4f1b7b7",
   "metadata": {},
   "outputs": [],
   "source": []
  },
  {
   "cell_type": "code",
   "execution_count": null,
   "id": "b474fa4c-1b71-4d1e-9dde-f9766f232f18",
   "metadata": {},
   "outputs": [],
   "source": []
  },
  {
   "cell_type": "markdown",
   "id": "0d85d477-af3c-436f-be82-7edc579cfcc9",
   "metadata": {},
   "source": [
    "### Parte II - Campos Potenciais.\n",
    "\n",
    "Primeiramente vamos definir algumas constantes"
   ]
  },
  {
   "cell_type": "code",
   "execution_count": 51,
   "id": "3d762218-c5b9-416f-b363-9ec41850e511",
   "metadata": {},
   "outputs": [],
   "source": [
    "DIST_LIMITE_OBJ = 0.05 \n",
    "RAIO_INFLUENCIA_OBS = 5"
   ]
  },
  {
   "cell_type": "markdown",
   "id": "0906c660-7d37-4c7e-bbc3-9abbda178ef2",
   "metadata": {},
   "source": [
    "Agora, implementamos as funções que vão calcular as forças de repulsão e de atração, sendo combinados posteriormente no código principal."
   ]
  },
  {
   "cell_type": "code",
   "execution_count": null,
   "id": "e8dc5cf1-1093-4883-af01-ef18bec067a6",
   "metadata": {},
   "outputs": [],
   "source": [
    "def calcular_forca_rep(q, obstaculos, k_rep = 0.1):\n",
    "    if obstaculos.size == 0:\n",
    "        return 0\n",
    "    else:\n",
    "        diff_pos = q - obstaculos[:, 0:2]\n",
    "        d = np.linalg.norm(diff_pos, axis=1)\n",
    "\n",
    "        forca_rep = (1/d**2)*((1/d)-(1/RAIO_INFLUENCIA_OBS))*(diff_pos/d)    \n",
    "\n",
    "        invalido = np.squeeze(d > RAIO_INFLUENCIA_OBS)\n",
    "        forca_rep[invalido, :] = 0\n",
    "\n",
    "        return k_rep * forca_rep "
   ]
  },
  {
   "cell_type": "code",
   "execution_count": 56,
   "id": "f79d7b8a-f273-40c6-998e-6ccf99515278",
   "metadata": {},
   "outputs": [],
   "source": [
    "def calcular_forca_attr(q, obj, k_attr=0.2):\n",
    "    forca_attr = k_attr * (obj - q)\n",
    "    \n",
    "    return forca_attr"
   ]
  },
  {
   "cell_type": "markdown",
   "id": "b7f73daf-4455-4c8a-832f-50b3987bef6e",
   "metadata": {},
   "source": [
    "Finalmente o código principal"
   ]
  },
  {
   "cell_type": "code",
   "execution_count": 61,
   "id": "82ea0395-edc7-4ed5-957b-35e21559dc14",
   "metadata": {},
   "outputs": [
    {
     "name": "stdout",
     "output_type": "stream",
     "text": [
      "False\n",
      "False\n",
      "False\n",
      "False\n",
      "False\n",
      "False\n",
      "False\n",
      "False\n",
      "False\n",
      "False\n",
      "False\n",
      "False\n",
      "False\n",
      "True\n",
      "True\n",
      "True\n",
      "True\n",
      "True\n",
      "True\n",
      "True\n",
      "True\n",
      "True\n",
      "True\n",
      "True\n",
      "True\n",
      "True\n",
      "True\n",
      "True\n",
      "True\n",
      "True\n",
      "True\n",
      "True\n",
      "True\n",
      "True\n",
      "True\n",
      "True\n",
      "True\n",
      "True\n",
      "True\n",
      "True\n",
      "True\n",
      "True\n",
      "True\n",
      "True\n",
      "True\n",
      "True\n",
      "True\n"
     ]
    },
    {
     "ename": "KeyboardInterrupt",
     "evalue": "",
     "output_type": "error",
     "traceback": [
      "\u001b[0;31m---------------------------------------------------------------------------\u001b[0m",
      "\u001b[0;31mKeyboardInterrupt\u001b[0m                         Traceback (most recent call last)",
      "Cell \u001b[0;32mIn [61], line 74\u001b[0m\n\u001b[1;32m     71\u001b[0m v_roda_dir \u001b[38;5;241m=\u001b[39m ((\u001b[38;5;241m2\u001b[39m \u001b[38;5;241m*\u001b[39m v) \u001b[38;5;241m+\u001b[39m (w \u001b[38;5;241m*\u001b[39m L)) \u001b[38;5;241m/\u001b[39m (\u001b[38;5;241m2\u001b[39m \u001b[38;5;241m*\u001b[39m r)\n\u001b[1;32m     72\u001b[0m v_roda_esq \u001b[38;5;241m=\u001b[39m ((\u001b[38;5;241m2\u001b[39m \u001b[38;5;241m*\u001b[39m v) \u001b[38;5;241m-\u001b[39m (w \u001b[38;5;241m*\u001b[39m L)) \u001b[38;5;241m/\u001b[39m (\u001b[38;5;241m2\u001b[39m \u001b[38;5;241m*\u001b[39m r)\n\u001b[0;32m---> 74\u001b[0m \u001b[43msim\u001b[49m\u001b[38;5;241;43m.\u001b[39;49m\u001b[43msimxSetJointTargetVelocity\u001b[49m\u001b[43m(\u001b[49m\u001b[43mid_cliente\u001b[49m\u001b[43m,\u001b[49m\u001b[43m \u001b[49m\u001b[43mroda_dir\u001b[49m\u001b[43m,\u001b[49m\u001b[43m \u001b[49m\u001b[43mv_roda_dir\u001b[49m\u001b[43m,\u001b[49m\u001b[43m \u001b[49m\u001b[43msim\u001b[49m\u001b[38;5;241;43m.\u001b[39;49m\u001b[43msimx_opmode_oneshot_wait\u001b[49m\u001b[43m)\u001b[49m\n\u001b[1;32m     75\u001b[0m sim\u001b[38;5;241m.\u001b[39msimxSetJointTargetVelocity(id_cliente, roda_esq, v_roda_esq, sim\u001b[38;5;241m.\u001b[39msimx_opmode_oneshot_wait)\n\u001b[1;32m     77\u001b[0m t \u001b[38;5;241m+\u001b[39m\u001b[38;5;241m=\u001b[39m dt\n",
      "File \u001b[0;32m~/Documentos/Prática-programação/Notebooks/Robotica_movel/TP2_Robotica_movel/sim.py:182\u001b[0m, in \u001b[0;36msimxSetJointTargetVelocity\u001b[0;34m(clientID, jointHandle, targetVelocity, operationMode)\u001b[0m\n\u001b[1;32m    177\u001b[0m \u001b[38;5;28;01mdef\u001b[39;00m \u001b[38;5;21msimxSetJointTargetVelocity\u001b[39m(clientID, jointHandle, targetVelocity, operationMode):\n\u001b[1;32m    178\u001b[0m     \u001b[38;5;124;03m'''\u001b[39;00m\n\u001b[1;32m    179\u001b[0m \u001b[38;5;124;03m    Please have a look at the function description/documentation in the CoppeliaSim user manual\u001b[39;00m\n\u001b[1;32m    180\u001b[0m \u001b[38;5;124;03m    '''\u001b[39;00m\n\u001b[0;32m--> 182\u001b[0m     \u001b[38;5;28;01mreturn\u001b[39;00m \u001b[43mc_SetJointTargetVelocity\u001b[49m\u001b[43m(\u001b[49m\u001b[43mclientID\u001b[49m\u001b[43m,\u001b[49m\u001b[43m \u001b[49m\u001b[43mjointHandle\u001b[49m\u001b[43m,\u001b[49m\u001b[43m \u001b[49m\u001b[43mtargetVelocity\u001b[49m\u001b[43m,\u001b[49m\u001b[43m \u001b[49m\u001b[43moperationMode\u001b[49m\u001b[43m)\u001b[49m\n",
      "\u001b[0;31mKeyboardInterrupt\u001b[0m: "
     ]
    }
   ],
   "source": [
    "sim.simxFinish(-1)\n",
    "id_cliente = sim.simxStart(\"127.0.0.1\", 19999, True, True, 50000, 5)\n",
    "\n",
    "if id_cliente != -1:\n",
    "    # Dimensões do robô.\n",
    "    L = 0.331\n",
    "    r = 0.09751\n",
    "    \n",
    "    robo_nome = \"Pioneer_p3dx\"\n",
    "    rv, robo = sim.simxGetObjectHandle(id_cliente, robo_nome, sim.simx_opmode_oneshot_wait)\n",
    "    rv, roda_dir = sim.simxGetObjectHandle(id_cliente, robo_nome + \"_rightMotor\", sim.simx_opmode_oneshot_wait)\n",
    "    rv, roda_esq = sim.simxGetObjectHandle(id_cliente, robo_nome + \"_leftMotor\", sim.simx_opmode_oneshot_wait)\n",
    "    rv, sonar_frente = sim.simxGetObjectHandle(id_cliente, robo_nome + \"_ultrasonicSensor5\", sim.simx_opmode_oneshot_wait)\n",
    "    rv, sonar_direita = sim.simxGetObjectHandle(id_cliente, robo_nome + \"_ultrasonicSensor7\", sim.simx_opmode_oneshot_wait)\n",
    "    rv, sonar_esquerda = sim.simxGetObjectHandle(id_cliente, robo_nome + \"_ultrasonicSensor1\", sim.simx_opmode_oneshot_wait)\n",
    "    \n",
    "    rv, obj = sim.simxGetObjectHandle(id_cliente, \"Goal\", sim.simx_opmode_oneshot_wait)\n",
    "    rv, pos_obj = sim.simxGetObjectPosition(id_cliente, obj, -1, sim.simx_opmode_oneshot_wait)\n",
    "    pos_obj = pos_obj[:2]\n",
    "    \n",
    "    \n",
    "    # Lembrar de habilitar o Real-time Mode.\n",
    "    t_inicio = time.time()\n",
    "    t_passou = t_inicio\n",
    "    \n",
    "    t = 0\n",
    "    while True:\n",
    "        t_atual = time.time()\n",
    "        dt = t_atual - t_passou\n",
    "        \n",
    "        rv, pos = sim.simxGetObjectPosition(id_cliente, robo, -1, sim.simx_opmode_oneshot_wait)\n",
    "        pos = np.array(pos[:2])\n",
    "        rv, orientacao = sim.simxGetObjectOrientation(id_cliente, robo, -1, sim.simx_opmode_oneshot_wait)\n",
    "        orientacao = orientacao[2]\n",
    "        \n",
    "        # Chegou no objetivo?\n",
    "        if np.linalg.norm(pos_obj - pos) <= DIST_LIMITE_OBJ:\n",
    "            break\n",
    "        \n",
    "        rv, estado_sonar_frente, pontos_frente, *_ = sim.simxReadProximitySensor(id_cliente, sonar_frente, sim.simx_opmode_oneshot_wait)\n",
    "        rv, estado_sonar_dir, pontos_dir, *_ = sim.simxReadProximitySensor(id_cliente, sonar_direita, sim.simx_opmode_oneshot_wait)\n",
    "        rv, estado_sonar_esq, pontos_esq, *_ = sim.simxReadProximitySensor(id_cliente, sonar_esquerda, sim.simx_opmode_oneshot_wait)\n",
    "        \n",
    "        tem_obstaculo_frente = (estado_sonar_frente and np.linalg.norm(pontos_frente) < RAIO_INFLUENCIA_OBS)\n",
    "        tem_obstaculo_dir = (estado_sonar_dir and np.linalg.norm(pontos_dir) < RAIO_INFLUENCIA_OBS)\n",
    "        tem_obstaculo_esq = (estado_sonar_esq and np.linalg.norm(pontos_esq) < RAIO_INFLUENCIA_OBS)\n",
    "        \n",
    "        # Posso ter um obstáculo em todas as direções. \n",
    "        obstaculos = np.empty((0,2))\n",
    "        if tem_obstaculo_frente:\n",
    "            np.vstack((obstaculos, np.array([pontos_frente[:2]])))\n",
    "        if tem_obstaculo_dir:\n",
    "            np.vstack((obstaculos, np.array([pontos_dir[:2]])))\n",
    "        if tem_obstaculo_esq:\n",
    "            np.vstack((obstaculos, np.array([pontos_esq[:2]])))\n",
    "            \n",
    "        \n",
    "        # Campos potenciais \n",
    "        dx, dy = calcular_forca_attr(pos, pos_obj) + calcular_forca_rep(pos, obstaculos)\n",
    "        \n",
    "        # Controlador\n",
    "        kr, kt = 1, 2\n",
    "        \n",
    "        v = kr*(dx*np.cos(orientacao) + dy*np.sin(orientacao))\n",
    "        w = kt*(np.arctan2(dy,dx) - orientacao)\n",
    "        \n",
    "        \n",
    "        # Modelo cinemática inversa.\n",
    "        v_roda_dir = ((2 * v) + (w * L)) / (2 * r)\n",
    "        v_roda_esq = ((2 * v) - (w * L)) / (2 * r)\n",
    "\n",
    "        sim.simxSetJointTargetVelocity(id_cliente, roda_dir, v_roda_dir, sim.simx_opmode_oneshot_wait)\n",
    "        sim.simxSetJointTargetVelocity(id_cliente, roda_esq, v_roda_esq, sim.simx_opmode_oneshot_wait)\n",
    "        \n",
    "        t += dt\n",
    "        t_passou = t\n",
    "    \n",
    "    # Parar o robô no objetivo\n",
    "    sim.simxSetJointTargetVelocity(id_cliente, roda_dir, 0, sim.simx_opmode_oneshot_wait)\n",
    "    sim.simxSetJointTargetVelocity(id_cliente, roda_esq, 0, sim.simx_opmode_oneshot_wait)\n",
    "    \n",
    "    sim.simxFinish(id_cliente) \n",
    "\n",
    "else:\n",
    "    print(\"Falha ao conectar-se ao CoppeliaSim.\")"
   ]
  },
  {
   "cell_type": "code",
   "execution_count": null,
   "id": "e574d59d-3931-4bf9-ad92-d04cdb1af0b3",
   "metadata": {},
   "outputs": [],
   "source": []
  }
 ],
 "metadata": {
  "kernelspec": {
   "display_name": "Python 3 (ipykernel)",
   "language": "python",
   "name": "python3"
  },
  "language_info": {
   "codemirror_mode": {
    "name": "ipython",
    "version": 3
   },
   "file_extension": ".py",
   "mimetype": "text/x-python",
   "name": "python",
   "nbconvert_exporter": "python",
   "pygments_lexer": "ipython3",
   "version": "3.10.6"
  }
 },
 "nbformat": 4,
 "nbformat_minor": 5
}
