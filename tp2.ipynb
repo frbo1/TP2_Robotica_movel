{
 "cells": [
  {
   "cell_type": "markdown",
   "id": "73e8ba4e-350f-4292-84b5-68ea33a7c52b",
   "metadata": {},
   "source": [
    "## Trabalho Prático #2: Planejamento e navegação ##\n",
    "#### Integrantes: ####\n",
    "* Filipe Rodrigues Batista de Oliveira \n",
    "* "
   ]
  },
  {
   "cell_type": "code",
   "execution_count": 1,
   "id": "3d425c81-e6a9-47d9-bdee-9684a9c3972d",
   "metadata": {},
   "outputs": [],
   "source": [
    "import time\n",
    "import numpy as np\n",
    "from matplotlib import pyplot as plt\n",
    "\n",
    "import sim"
   ]
  },
  {
   "cell_type": "markdown",
   "id": "6f52c2ac-f27a-4a09-b048-ceeb46ce9278",
   "metadata": {},
   "source": [
    "Parte I"
   ]
  },
  {
   "cell_type": "code",
   "execution_count": null,
   "id": "b239c528-aa32-4805-8595-66add4f1b7b7",
   "metadata": {},
   "outputs": [],
   "source": []
  },
  {
   "cell_type": "code",
   "execution_count": null,
   "id": "b474fa4c-1b71-4d1e-9dde-f9766f232f18",
   "metadata": {},
   "outputs": [],
   "source": []
  },
  {
   "cell_type": "markdown",
   "id": "0d85d477-af3c-436f-be82-7edc579cfcc9",
   "metadata": {},
   "source": [
    "Parte II"
   ]
  },
  {
   "cell_type": "code",
   "execution_count": 16,
   "id": "ac5d17da-55f7-43f7-9dd7-c620302d7345",
   "metadata": {},
   "outputs": [],
   "source": [
    "def campos_potenciais(q, obj, obstaculos):\n",
    "    DISTANCIA_DESEJADA = 0.05 \n",
    "    \n",
    "    while np.linalg.norm(obj - q) < DISTANCIA_DESEJADA:\n",
    "        potencial_rep = [for obstaculo in obstaculos]\n",
    "        potencial = potencial_attr + potencial_rep\n",
    "        \n",
    "    return potencial"
   ]
  },
  {
   "cell_type": "code",
   "execution_count": 14,
   "id": "82ea0395-edc7-4ed5-957b-35e21559dc14",
   "metadata": {},
   "outputs": [
    {
     "name": "stdout",
     "output_type": "stream",
     "text": [
      "Falha ao conectar-se ao CoppeliaSim.\n"
     ]
    }
   ],
   "source": [
    "id_cliente = sim.simxStart(\"127.0.0.1\", 19999, True, True, 50000, 5)\n",
    "\n",
    "if id_cliente != -1:\n",
    "    robo_nome = \"Pionner_p3dx\"\n",
    "    rv, robo = sim.simxGetObjectHandle(id_cliente, robo_nome, sim.simx_opmode_oneshot_wait)\n",
    "    \n",
    "    rv, roda_dir = sim.simxGetObjectHandle(id_cliente, robo_nome + \"_rightMotor\", sim.simx_opmode_oneshot_wait)\n",
    "    rv, roda_esq = sim.simxGetObjectHandle(id_cliente, robo_nome + \"_leftMotor\", sim.simx_opmode_oneshot_wait)\n",
    "    rv, sonar_frente = sim.simxGetObjectHandle(id_cliente, robo_nome + \"_ultrasonicSensor5\", sim.simx_opmode_oneshot_wait)\n",
    "    rv, sonar_direita = sim.simxGetObjectHandle(id_cliente, robo_nome + \"_ultrasonicSensor7\", sim.simx_opmode_oneshot_wait)\n",
    "    \n",
    "    DIST_LIMITE = 0.5 \n",
    "    \n",
    "    L = 0.331\n",
    "    r = 0.09751\n",
    "    \n",
    "    v = np.array([20, 10])  \n",
    "    \n",
    "    # Lembrar de habilitar o Real-time Mode.\n",
    "    t_inicio = time.time()\n",
    "    t_passou = t_inicio\n",
    "    \n",
    "    t = 0\n",
    "    while(t < 60):\n",
    "        t_atual = time.time()\n",
    "        dt = t_atual - t_passou\n",
    "        \n",
    "        rv, pos = sim.simxGetObjectPosition(id_cliente, robo, -1, sim.simx_opmode_oneshot_wait)\n",
    "        rv, orientacao = sim.simxGetObjectOrientation(id_cliente, robo, -1, sim.simx_opmode_oneshot_wait)\n",
    "        configuracao_atual = np.array([pos[0], pos[1], orientacao])\n",
    "        \n",
    "        rv, estado_sonar_frente, pontos_frente, *_ = sim.simxReadProximitySensor(id_cliente, sonar_frente, sim.simx_opmode_oneshot_wait)\n",
    "        rv, estado_sonar_direita, pontos_direita, *_ = sim.simxReadProximitySensor(id_cliente, sonar_direita, sim.simx_opmode_oneshot_wait)\n",
    "        \n",
    "        tem_obstaculo_frente = estado_sonar_frente and np.linalg.norm(pontos_frente) < DIST_LIMITE\n",
    "        tem_obstaculo_direita = estado_sonar_direira and np.linalg.norm(pontos_direita) < DIST_LIMITE\n",
    "        \n",
    "        if tem_obstaculo_frente:\n",
    "            v = 0\n",
    "            ang = np.deg2rad(30)\n",
    "            \n",
    "        # Usa o segundo controlador na especificação do trabalho [Desai et al. 1998]\n",
    "        controlador = np.array([[np.cos(orientacao), np.sin(orientacao)],\n",
    "                                [-np.sin(orientacao) / d, np.cos(orientacao) / d]])\n",
    "            \n",
    "        v, w = controlador @ v \n",
    "        \n",
    "        t += dt\n",
    "        t_passou = t\n",
    "    \n",
    "    sim.simxFinish(id_cliente) \n",
    "\n",
    "else:\n",
    "    print(\"Falha ao conectar-se ao CoppeliaSim.\")"
   ]
  },
  {
   "cell_type": "code",
   "execution_count": null,
   "id": "e574d59d-3931-4bf9-ad92-d04cdb1af0b3",
   "metadata": {},
   "outputs": [],
   "source": []
  }
 ],
 "metadata": {
  "kernelspec": {
   "display_name": "Python 3 (ipykernel)",
   "language": "python",
   "name": "python3"
  },
  "language_info": {
   "codemirror_mode": {
    "name": "ipython",
    "version": 3
   },
   "file_extension": ".py",
   "mimetype": "text/x-python",
   "name": "python",
   "nbconvert_exporter": "python",
   "pygments_lexer": "ipython3",
   "version": "3.10.6"
  }
 },
 "nbformat": 4,
 "nbformat_minor": 5
}
